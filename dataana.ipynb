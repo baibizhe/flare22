{
 "cells": [
  {
   "cell_type": "code",
   "execution_count": 4,
   "metadata": {
    "collapsed": true
   },
   "outputs": [],
   "source": [
    "import os\n",
    "import SimpleITK as sikt\n"
   ]
  },
  {
   "cell_type": "code",
   "execution_count": 5,
   "outputs": [
    {
     "name": "stdout",
     "output_type": "stream",
     "text": [
      "(110, 512, 512)\n",
      "(107, 512, 512)\n",
      "(101, 512, 512)\n",
      "(87, 512, 512)\n",
      "(85, 512, 512)\n",
      "(93, 512, 512)\n",
      "(105, 512, 512)\n",
      "(99, 512, 512)\n",
      "(87, 512, 512)\n",
      "(96, 512, 512)\n",
      "(84, 512, 512)\n",
      "(103, 512, 512)\n",
      "(91, 512, 512)\n",
      "(71, 512, 512)\n",
      "(84, 512, 512)\n",
      "(93, 512, 512)\n",
      "(108, 512, 512)\n",
      "(98, 512, 512)\n",
      "(98, 512, 512)\n",
      "(92, 512, 512)\n",
      "(100, 512, 512)\n",
      "(98, 512, 512)\n",
      "(102, 512, 512)\n",
      "(99, 512, 512)\n",
      "(85, 512, 512)\n",
      "(104, 512, 512)\n",
      "(102, 512, 512)\n",
      "(89, 512, 512)\n",
      "(93, 512, 512)\n",
      "(99, 512, 512)\n",
      "(101, 512, 512)\n",
      "(103, 512, 512)\n",
      "(107, 512, 512)\n",
      "(94, 512, 512)\n",
      "(101, 512, 512)\n",
      "(89, 512, 512)\n",
      "(79, 512, 512)\n",
      "(109, 512, 512)\n",
      "(100, 512, 512)\n",
      "(93, 512, 512)\n",
      "(98, 512, 512)\n",
      "(93, 512, 512)\n",
      "(85, 512, 512)\n",
      "(83, 512, 512)\n",
      "(113, 512, 512)\n",
      "(93, 512, 512)\n",
      "(113, 512, 512)\n",
      "(95, 512, 512)\n",
      "(87, 512, 512)\n",
      "(95, 512, 512)\n"
     ]
    }
   ],
   "source": [
    "dataDirPath = \"data/FLARE22_LabeledCase50-20220324T003930Z-001\"\n",
    "    # dataDirPath = \"data/FLARE22_LabeledCase50\"\n",
    "\n",
    "imgPaths = list(\n",
    "    map(lambda x: os.path.join(dataDirPath, \"images\", x), os.listdir(os.path.join(dataDirPath, \"images\"))))\n",
    "labelPath = list(\n",
    "    map(lambda x: os.path.join(dataDirPath, \"labels\", x), os.listdir(os.path.join(dataDirPath, \"labels\"))))\n",
    "for i in imgPaths:\n",
    "    img = sikt.ReadImage(i)\n",
    "    img1 = sikt.GetArrayFromImage(img)\n",
    "    print(img1.shape)"
   ],
   "metadata": {
    "collapsed": false,
    "pycharm": {
     "name": "#%%\n"
    }
   }
  }
 ],
 "metadata": {
  "kernelspec": {
   "display_name": "Python 3",
   "language": "python",
   "name": "python3"
  },
  "language_info": {
   "codemirror_mode": {
    "name": "ipython",
    "version": 2
   },
   "file_extension": ".py",
   "mimetype": "text/x-python",
   "name": "python",
   "nbconvert_exporter": "python",
   "pygments_lexer": "ipython2",
   "version": "2.7.6"
  }
 },
 "nbformat": 4,
 "nbformat_minor": 0
}